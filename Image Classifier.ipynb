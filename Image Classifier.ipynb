{
 "cells": [
  {
   "cell_type": "code",
   "execution_count": 1,
   "id": "21005907-c63d-4d62-9075-5bd9fbcc0cd1",
   "metadata": {},
   "outputs": [],
   "source": [
    "import tensorflow as tf\n",
    "import os"
   ]
  },
  {
   "cell_type": "code",
   "execution_count": 2,
   "id": "48117d33-a5e4-4a54-a383-fcc1b2360406",
   "metadata": {},
   "outputs": [],
   "source": [
    "gpus = tf.config.experimental.list_physical_devices(\"GPU\")\n",
    "for gpu in gpus:\n",
    "    tf.config.experimental.set_memory_growth(gpu, True)"
   ]
  },
  {
   "cell_type": "code",
   "execution_count": 10,
   "id": "4d5fb88b-4b94-46ad-a931-05bab74898c7",
   "metadata": {},
   "outputs": [],
   "source": [
    "import cv2\n",
    "import imghdr"
   ]
  },
  {
   "cell_type": "code",
   "execution_count": 11,
   "id": "3a651aa3-211f-423b-b9c6-9d6061eb810b",
   "metadata": {},
   "outputs": [],
   "source": [
    "data_dir = \"Data\"\n"
   ]
  },
  {
   "cell_type": "code",
   "execution_count": 19,
   "id": "195caaf4-54ba-453c-8801-1ff42042f4dd",
   "metadata": {},
   "outputs": [
    {
     "data": {
      "text/plain": [
       "['Happy', 'Sad']"
      ]
     },
     "execution_count": 19,
     "metadata": {},
     "output_type": "execute_result"
    }
   ],
   "source": [
    "os.listdir(data_dir)"
   ]
  },
  {
   "cell_type": "code",
   "execution_count": 12,
   "id": "00f8ac24-193e-40d9-a4bb-c9a67c24ded6",
   "metadata": {},
   "outputs": [],
   "source": [
    "image_exts = [\"jpeg\",\"jpg\",\"png\",\"bmp\"]"
   ]
  },
  {
   "cell_type": "code",
   "execution_count": 16,
   "id": "c8b436ac-b175-4224-9708-3aeeeb1b8ca9",
   "metadata": {},
   "outputs": [
    {
     "data": {
      "text/plain": [
       "'png'"
      ]
     },
     "execution_count": 16,
     "metadata": {},
     "output_type": "execute_result"
    }
   ],
   "source": [
    "image_exts[2]"
   ]
  },
  {
   "cell_type": "code",
   "execution_count": null,
   "id": "125ce28b-df63-4731-a7fd-c855da99f6b4",
   "metadata": {},
   "outputs": [],
   "source": [
    "for image_class in os.listdir(data_dir):\n",
    "    for image in os.listdir(os.path.join(data_dir, image_class)):\n",
    "        image_path = os.path.join(data_dir, image_class, image)\n",
    "        try:\n",
    "            img = cv2.imread(image_path)\n",
    "            tip = imghdr.what(image_path)\n",
    "            if tip not in image_exts:\n",
    "                print(\"Image not in ext list ()\".format(image_path))\n",
    "                os.remove(image_path)\n",
    "        except Exception as e:\n",
    "            print(\"Issue with image {}\" .format(image_path))"
   ]
  },
  {
   "cell_type": "code",
   "execution_count": null,
   "id": "29d9dac5-8ec6-45d6-b953-c0d2c4cab1c7",
   "metadata": {},
   "outputs": [],
   "source": []
  }
 ],
 "metadata": {
  "kernelspec": {
   "display_name": "Python 3 (ipykernel)",
   "language": "python",
   "name": "python3"
  },
  "language_info": {
   "codemirror_mode": {
    "name": "ipython",
    "version": 3
   },
   "file_extension": ".py",
   "mimetype": "text/x-python",
   "name": "python",
   "nbconvert_exporter": "python",
   "pygments_lexer": "ipython3",
   "version": "3.12.7"
  }
 },
 "nbformat": 4,
 "nbformat_minor": 5
}
